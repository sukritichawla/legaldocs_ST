{
  "cells": [
    {
      "cell_type": "markdown",
      "metadata": {
        "id": "f05XKaTIwcTJ"
      },
      "source": [
        "# Colab Setup Notebook\n",
        "Run these cells step by step."
      ]
    },
    {
      "cell_type": "code",
      "execution_count": 3,
      "metadata": {
        "id": "HWrerWVCwcTL",
        "outputId": "80299f12-292c-4cbe-f5d0-ad539eaae64b",
        "colab": {
          "base_uri": "https://localhost:8080/"
        }
      },
      "outputs": [
        {
          "output_type": "stream",
          "name": "stdout",
          "text": [
            "Tue Sep  2 15:21:03 2025       \n",
            "+-----------------------------------------------------------------------------------------+\n",
            "| NVIDIA-SMI 550.54.15              Driver Version: 550.54.15      CUDA Version: 12.4     |\n",
            "|-----------------------------------------+------------------------+----------------------+\n",
            "| GPU  Name                 Persistence-M | Bus-Id          Disp.A | Volatile Uncorr. ECC |\n",
            "| Fan  Temp   Perf          Pwr:Usage/Cap |           Memory-Usage | GPU-Util  Compute M. |\n",
            "|                                         |                        |               MIG M. |\n",
            "|=========================================+========================+======================|\n",
            "|   0  Tesla T4                       Off |   00000000:00:04.0 Off |                    0 |\n",
            "| N/A   59C    P8             13W /   70W |       0MiB /  15360MiB |      0%      Default |\n",
            "|                                         |                        |                  N/A |\n",
            "+-----------------------------------------+------------------------+----------------------+\n",
            "                                                                                         \n",
            "+-----------------------------------------------------------------------------------------+\n",
            "| Processes:                                                                              |\n",
            "|  GPU   GI   CI        PID   Type   Process name                              GPU Memory |\n",
            "|        ID   ID                                                               Usage      |\n",
            "|=========================================================================================|\n",
            "|  No running processes found                                                             |\n",
            "+-----------------------------------------------------------------------------------------+\n"
          ]
        }
      ],
      "source": [
        "!nvidia-smi || echo 'No GPU available (OK, slower runs)'"
      ]
    },
    {
      "cell_type": "code",
      "source": [
        "# installs required libs (may take 1–3 minutes)\n",
        "!pip -q install -U transformers datasets sentencepiece accelerate huggingface_hub python-dotenv feedparser beautifulsoup4 sacrebleu rouge-score gradio\n"
      ],
      "metadata": {
        "id": "VpZ2HRrkw9nE",
        "outputId": "af2f590b-f454-405f-c142-63795cef87fa",
        "colab": {
          "base_uri": "https://localhost:8080/"
        }
      },
      "execution_count": 4,
      "outputs": [
        {
          "output_type": "stream",
          "name": "stdout",
          "text": [
            "\u001b[2K     \u001b[90m━━━━━━━━━━━━━━━━━━━━━━━━━━━━━━━━━━━━━━━━\u001b[0m \u001b[32m40.1/40.1 kB\u001b[0m \u001b[31m3.4 MB/s\u001b[0m eta \u001b[36m0:00:00\u001b[0m\n",
            "\u001b[2K     \u001b[90m━━━━━━━━━━━━━━━━━━━━━━━━━━━━━━━━━━━━━━━━\u001b[0m \u001b[32m51.8/51.8 kB\u001b[0m \u001b[31m5.0 MB/s\u001b[0m eta \u001b[36m0:00:00\u001b[0m\n",
            "\u001b[?25h  Preparing metadata (setup.py) ... \u001b[?25l\u001b[?25hdone\n",
            "  Preparing metadata (setup.py) ... \u001b[?25l\u001b[?25hdone\n",
            "\u001b[2K   \u001b[90m━━━━━━━━━━━━━━━━━━━━━━━━━━━━━━━━━━━━━━━━\u001b[0m \u001b[32m11.6/11.6 MB\u001b[0m \u001b[31m73.7 MB/s\u001b[0m eta \u001b[36m0:00:00\u001b[0m\n",
            "\u001b[2K   \u001b[90m━━━━━━━━━━━━━━━━━━━━━━━━━━━━━━━━━━━━━━━━\u001b[0m \u001b[32m81.3/81.3 kB\u001b[0m \u001b[31m7.9 MB/s\u001b[0m eta \u001b[36m0:00:00\u001b[0m\n",
            "\u001b[2K   \u001b[90m━━━━━━━━━━━━━━━━━━━━━━━━━━━━━━━━━━━━━━━━\u001b[0m \u001b[32m104.1/104.1 kB\u001b[0m \u001b[31m9.7 MB/s\u001b[0m eta \u001b[36m0:00:00\u001b[0m\n",
            "\u001b[2K   \u001b[90m━━━━━━━━━━━━━━━━━━━━━━━━━━━━━━━━━━━━━━━━\u001b[0m \u001b[32m60.2/60.2 MB\u001b[0m \u001b[31m15.4 MB/s\u001b[0m eta \u001b[36m0:00:00\u001b[0m\n",
            "\u001b[2K   \u001b[90m━━━━━━━━━━━━━━━━━━━━━━━━━━━━━━━━━━━━━━━━\u001b[0m \u001b[32m3.3/3.3 MB\u001b[0m \u001b[31m75.2 MB/s\u001b[0m eta \u001b[36m0:00:00\u001b[0m\n",
            "\u001b[?25h  Building wheel for rouge-score (setup.py) ... \u001b[?25l\u001b[?25hdone\n",
            "  Building wheel for sgmllib3k (setup.py) ... \u001b[?25l\u001b[?25hdone\n"
          ]
        }
      ]
    },
    {
      "cell_type": "code",
      "source": [
        "from getpass import getpass\n",
        "token = getpass(\"Enter your GitHub PAT (keeps input hidden): \")\n",
        "USERNAME = \"sukritichawla\"    # replace if needed\n",
        "REPO = \"legaldocs_ST\"         # replace if needed\n",
        "REPO_URL = f\"https://{token}@github.com/{USERNAME}/{REPO}.git\"\n",
        "!git clone $REPO_URL\n",
        "%cd $REPO\n",
        "!ls -la\n"
      ],
      "metadata": {
        "id": "qobLyADlw-e2",
        "outputId": "064da1c9-65e3-4769-d2a9-9b0cc6ead03e",
        "colab": {
          "base_uri": "https://localhost:8080/"
        }
      },
      "execution_count": 3,
      "outputs": [
        {
          "output_type": "stream",
          "name": "stdout",
          "text": [
            "Enter your GitHub PAT (keeps input hidden): ··········\n",
            "Cloning into 'legaldocs_ST'...\n",
            "remote: Enumerating objects: 10, done.\u001b[K\n",
            "remote: Counting objects: 100% (10/10), done.\u001b[K\n",
            "remote: Compressing objects: 100% (7/7), done.\u001b[K\n",
            "remote: Total 10 (delta 0), reused 0 (delta 0), pack-reused 0 (from 0)\u001b[K\n",
            "Receiving objects: 100% (10/10), done.\n",
            "/content/legaldocs_ST\n",
            "total 24\n",
            "drwxr-xr-x 4 root root 4096 Sep  2 14:13 .\n",
            "drwxr-xr-x 1 root root 4096 Sep  2 14:13 ..\n",
            "drwxr-xr-x 8 root root 4096 Sep  2 14:13 .git\n",
            "drwxr-xr-x 2 root root 4096 Sep  2 14:13 notebooks\n",
            "-rw-r--r-- 1 root root   14 Sep  2 14:13 README.md\n",
            "-rw-r--r-- 1 root root 1920 Sep  2 14:13 starter_clean.zip\n"
          ]
        }
      ]
    },
    {
      "cell_type": "code",
      "source": [
        "%cd /content/legaldocs_ST\n",
        "!ls -la"
      ],
      "metadata": {
        "id": "AuKpTe8KxduY",
        "outputId": "f02ccd86-a0d5-4851-b4a2-7de4d3aab3ba",
        "colab": {
          "base_uri": "https://localhost:8080/"
        }
      },
      "execution_count": 7,
      "outputs": [
        {
          "output_type": "stream",
          "name": "stdout",
          "text": [
            "[Errno 2] No such file or directory: '/content/legaldocs_ST'\n",
            "/content\n",
            "total 16\n",
            "drwxr-xr-x 1 root root 4096 Aug 28 13:42 .\n",
            "drwxr-xr-x 1 root root 4096 Sep  2 15:19 ..\n",
            "drwxr-xr-x 4 root root 4096 Aug 28 13:42 .config\n",
            "drwxr-xr-x 1 root root 4096 Aug 28 13:43 sample_data\n"
          ]
        }
      ]
    },
    {
      "cell_type": "code",
      "source": [
        "!unzip -o starter_clean.zip -d .\n",
        "!ls -la\n"
      ],
      "metadata": {
        "id": "fLIJkpcByA8o",
        "outputId": "d41f50fc-15c1-4eaf-e41d-33d6e52e033f",
        "colab": {
          "base_uri": "https://localhost:8080/"
        }
      },
      "execution_count": 14,
      "outputs": [
        {
          "output_type": "stream",
          "name": "stdout",
          "text": [
            "Archive:  starter_clean.zip\n",
            "  inflating: ./README.md             \n",
            " extracting: ./scripts/fetch_rss_to_csv.py  \n",
            "total 44\n",
            "drwxr-xr-x 9 root root 4096 Sep  2 14:22 .\n",
            "drwxr-xr-x 1 root root 4096 Sep  2 14:13 ..\n",
            "drwxr-xr-x 4 root root 4096 Sep  2 13:23 data\n",
            "drwxr-xr-x 2 root root 4096 Sep  2 13:23 docs\n",
            "drwxr-xr-x 8 root root 4096 Sep  2 14:22 .git\n",
            "drwxr-xr-x 3 root root 4096 Sep  2 13:23 .github\n",
            "drwxr-xr-x 2 root root 4096 Sep  2 14:13 notebooks\n",
            "-rw-r--r-- 1 root root   71 Sep  2 13:23 README.md\n",
            "drwxr-xr-x 2 root root 4096 Sep  2 14:22 scripts\n",
            "drwxr-xr-x 3 root root 4096 Sep  2 13:23 src\n",
            "-rw-r--r-- 1 root root 1920 Sep  2 14:13 starter_clean.zip\n"
          ]
        }
      ]
    },
    {
      "cell_type": "code",
      "source": [
        "!git config --global user.email \"sukritichawla77@gmail.com\"\n",
        "!git config --global user.name \"Sukriti Chawla\"\n",
        "\n",
        "!git add .\n",
        "!git commit -m \"add starter scaffold\"\n",
        "!git push origin main\n"
      ],
      "metadata": {
        "id": "NsQpdRi3yG8R",
        "outputId": "4da49ae9-08f4-49e8-b231-ceec6a625cc2",
        "colab": {
          "base_uri": "https://localhost:8080/"
        }
      },
      "execution_count": 15,
      "outputs": [
        {
          "output_type": "stream",
          "name": "stdout",
          "text": [
            "On branch main\n",
            "Your branch is up to date with 'origin/main'.\n",
            "\n",
            "nothing to commit, working tree clean\n",
            "Everything up-to-date\n"
          ]
        }
      ]
    },
    {
      "cell_type": "code",
      "source": [
        "# make the standard folders\n",
        "!mkdir -p data/raw data/processed docs src/pipeline .github/workflows\n",
        "\n",
        "# add placeholder files so git tracks the folders\n",
        "!echo \"# raw data goes here\" > data/raw/README.md\n",
        "!echo \"# processed data goes here\" > data/processed/README.md\n",
        "!echo \"# docs\" > docs/README.md\n",
        "!echo \"# pipeline code\" > src/pipeline/README.md\n",
        "!echo \"name: CI\" > .github/workflows/ci.yml\n",
        "\n",
        "# stage and push\n",
        "!git add .\n",
        "!git commit -m \"add project scaffold folders\"\n",
        "!git push origin main\n"
      ],
      "metadata": {
        "id": "BlfrRBNMy44g",
        "outputId": "a27f53fe-b72e-437f-a2fd-305d494faede",
        "colab": {
          "base_uri": "https://localhost:8080/"
        }
      },
      "execution_count": 16,
      "outputs": [
        {
          "output_type": "stream",
          "name": "stdout",
          "text": [
            "[main 460c11e] add project scaffold folders\n",
            " 5 files changed, 5 insertions(+)\n",
            " create mode 100644 .github/workflows/ci.yml\n",
            " create mode 100644 data/processed/README.md\n",
            " create mode 100644 data/raw/README.md\n",
            " create mode 100644 docs/README.md\n",
            " create mode 100644 src/pipeline/README.md\n",
            "Enumerating objects: 16, done.\n",
            "Counting objects: 100% (16/16), done.\n",
            "Delta compression using up to 2 threads\n",
            "Compressing objects: 100% (3/3), done.\n",
            "Writing objects: 100% (15/15), 996 bytes | 996.00 KiB/s, done.\n",
            "Total 15 (delta 0), reused 0 (delta 0), pack-reused 0\n",
            "To https://github.com/sukritichawla/legaldocs_ST.git\n",
            " \u001b[31m! [remote rejected]\u001b[m main -> main (refusing to allow a Personal Access Token to create or update workflow `.github/workflows/ci.yml` without `workflow` scope)\n",
            "\u001b[31merror: failed to push some refs to 'https://github.com/sukritichawla/legaldocs_ST.git'\n",
            "\u001b[m"
          ]
        }
      ]
    },
    {
      "cell_type": "code",
      "source": [
        "!git add data docs src\n",
        "!git commit -m \"add project scaffold folders without CI\"\n",
        "!git push origin main\n"
      ],
      "metadata": {
        "id": "sl1ODUJsz_P1",
        "outputId": "6d1b5e46-bdf9-4df6-8e6c-c26fa66c5186",
        "colab": {
          "base_uri": "https://localhost:8080/"
        }
      },
      "execution_count": 1,
      "outputs": [
        {
          "output_type": "stream",
          "name": "stdout",
          "text": [
            "fatal: not a git repository (or any of the parent directories): .git\n",
            "fatal: not a git repository (or any of the parent directories): .git\n",
            "fatal: not a git repository (or any of the parent directories): .git\n"
          ]
        }
      ]
    },
    {
      "cell_type": "code",
      "source": [
        "%cd /content/legaldocs_ST\n",
        "!ls -la\n"
      ],
      "metadata": {
        "id": "HtICF6-NA0eH",
        "outputId": "cec3e8d4-4953-4f8e-acd1-22420b50c9c1",
        "colab": {
          "base_uri": "https://localhost:8080/"
        }
      },
      "execution_count": 2,
      "outputs": [
        {
          "output_type": "stream",
          "name": "stdout",
          "text": [
            "[Errno 2] No such file or directory: '/content/legaldocs_ST'\n",
            "/content\n",
            "total 16\n",
            "drwxr-xr-x 1 root root 4096 Aug 28 13:42 .\n",
            "drwxr-xr-x 1 root root 4096 Sep  2 15:19 ..\n",
            "drwxr-xr-x 4 root root 4096 Aug 28 13:42 .config\n",
            "drwxr-xr-x 1 root root 4096 Aug 28 13:43 sample_data\n"
          ]
        }
      ]
    },
    {
      "cell_type": "code",
      "source": [
        "!rm -rf legaldocs_ST"
      ],
      "metadata": {
        "id": "yiVLNKI6BE57"
      },
      "execution_count": 8,
      "outputs": []
    },
    {
      "cell_type": "code",
      "source": [
        "from getpass import getpass\n",
        "token = getpass(\"Enter your GitHub PAT (keeps input hidden): \")\n",
        "USERNAME = \"sukritichawla\"    # replace if needed\n",
        "REPO = \"legaldocs_ST\"         # replace if needed\n",
        "REPO_URL = f\"https://{token}@github.com/{USERNAME}/{REPO}.git\"\n",
        "!git clone $REPO_URL\n",
        "%cd $REPO\n",
        "!ls -la\n"
      ],
      "metadata": {
        "id": "olo26nCTB1Dn",
        "outputId": "cdf9d1d4-a0c9-4969-897f-8b64a8be3b87",
        "colab": {
          "base_uri": "https://localhost:8080/"
        }
      },
      "execution_count": 9,
      "outputs": [
        {
          "output_type": "stream",
          "name": "stdout",
          "text": [
            "Enter your GitHub PAT (keeps input hidden): ··········\n",
            "Cloning into 'legaldocs_ST'...\n",
            "remote: Enumerating objects: 15, done.\u001b[K\n",
            "remote: Counting objects: 100% (15/15), done.\u001b[K\n",
            "remote: Compressing objects: 100% (10/10), done.\u001b[K\n",
            "remote: Total 15 (delta 0), reused 5 (delta 0), pack-reused 0 (from 0)\u001b[K\n",
            "Receiving objects: 100% (15/15), done.\n",
            "/content/legaldocs_ST\n",
            "total 28\n",
            "drwxr-xr-x 5 root root 4096 Sep  2 15:24 .\n",
            "drwxr-xr-x 1 root root 4096 Sep  2 15:24 ..\n",
            "drwxr-xr-x 8 root root 4096 Sep  2 15:24 .git\n",
            "drwxr-xr-x 2 root root 4096 Sep  2 15:24 notebooks\n",
            "-rw-r--r-- 1 root root   71 Sep  2 15:24 README.md\n",
            "drwxr-xr-x 2 root root 4096 Sep  2 15:24 scripts\n",
            "-rw-r--r-- 1 root root 1920 Sep  2 15:24 starter_clean.zip\n"
          ]
        }
      ]
    },
    {
      "cell_type": "code",
      "source": [
        "!pwd"
      ],
      "metadata": {
        "id": "BLyXCCV3B5CF",
        "outputId": "5737a3e0-e4bc-4a36-c532-6b5c7653b71c",
        "colab": {
          "base_uri": "https://localhost:8080/"
        }
      },
      "execution_count": 11,
      "outputs": [
        {
          "output_type": "stream",
          "name": "stdout",
          "text": [
            "/content/legaldocs_ST\n"
          ]
        }
      ]
    },
    {
      "cell_type": "code",
      "source": [
        "!mkdir -p data/raw data/processed docs src/pipeline\n",
        "\n",
        "# add placeholder files so Git tracks folders\n",
        "!echo \"# raw data\" > data/raw/README.md\n",
        "!echo \"# processed data\" > data/processed/README.md\n",
        "!echo \"# docs\" > docs/README.md\n",
        "!echo \"# pipeline code\" > src/pipeline/README.md\n",
        "\n",
        "# add requirements file\n",
        "!echo \"transformers\\ndatasets\\nsentencepiece\\naccelerate\\nhuggingface_hub\\npandas\\nnumpy\\ntqdm\\nbeautifulsoup4\\nfeedparser\\nsacrebleu\\nrouge-score\\ngradi\" > requirements.txt\n",
        "\n",
        "# commit & push\n",
        "!git config --global user.email \"sukritichawla77@gmail.com\"\n",
        "!git config --global user.name \"Sukriti Chawla\"\n",
        "!git add .\n",
        "!git commit -m \"add scaffold folders + requirements\"\n",
        "!git push origin main\n"
      ],
      "metadata": {
        "id": "XazHHy-1B_nU",
        "outputId": "2a1f06d6-5e6e-49ad-c12c-8d0b5525d236",
        "colab": {
          "base_uri": "https://localhost:8080/"
        }
      },
      "execution_count": 13,
      "outputs": [
        {
          "output_type": "stream",
          "name": "stdout",
          "text": [
            "[main 39f8789] add scaffold folders + requirements\n",
            " 5 files changed, 5 insertions(+)\n",
            " create mode 100644 data/processed/README.md\n",
            " create mode 100644 data/raw/README.md\n",
            " create mode 100644 docs/README.md\n",
            " create mode 100644 requirements.txt\n",
            " create mode 100644 src/pipeline/README.md\n",
            "Enumerating objects: 14, done.\n",
            "Counting objects: 100% (14/14), done.\n",
            "Delta compression using up to 2 threads\n",
            "Compressing objects: 100% (4/4), done.\n",
            "Writing objects: 100% (13/13), 1001 bytes | 1001.00 KiB/s, done.\n",
            "Total 13 (delta 0), reused 0 (delta 0), pack-reused 0\n",
            "To https://github.com/sukritichawla/legaldocs_ST.git\n",
            "   036af73..39f8789  main -> main\n"
          ]
        }
      ]
    },
    {
      "cell_type": "code",
      "source": [
        "from huggingface_hub import login\n",
        "from getpass import getpass\n",
        "\n",
        "hf_token = getpass(\"Enter your HF token (starts with hf_): \")\n",
        "login(token=hf_token)\n",
        "\n",
        "import os\n",
        "os.environ['HF_TOKEN'] = hf_token\n",
        "print(\"HF login done.\")\n"
      ],
      "metadata": {
        "id": "ZAUmqyb_CIXK",
        "outputId": "042fa401-1eaa-4de3-83fc-7621f20329d9",
        "colab": {
          "base_uri": "https://localhost:8080/"
        }
      },
      "execution_count": 14,
      "outputs": [
        {
          "output_type": "stream",
          "name": "stdout",
          "text": [
            "Enter your HF token (starts with hf_): ··········\n",
            "HF login done.\n"
          ]
        }
      ]
    },
    {
      "cell_type": "code",
      "source": [
        "!python scripts/fetch_rss_to_csv.py || echo \"RSS fetch script placeholder\"\n",
        "!ls -la data/raw\n"
      ],
      "metadata": {
        "id": "S6wfUIBjCxwo",
        "outputId": "eed5b7cd-6b40-454d-8490-a8bc09f2c8d3",
        "colab": {
          "base_uri": "https://localhost:8080/"
        }
      },
      "execution_count": 15,
      "outputs": [
        {
          "output_type": "stream",
          "name": "stdout",
          "text": [
            "fetch rss placeholder\n",
            "total 12\n",
            "drwxr-xr-x 2 root root 4096 Sep  2 15:25 .\n",
            "drwxr-xr-x 4 root root 4096 Sep  2 15:25 ..\n",
            "-rw-r--r-- 1 root root   11 Sep  2 15:26 README.md\n"
          ]
        }
      ]
    },
    {
      "cell_type": "code",
      "source": [
        "!python src/pipeline/summarize_simplify_translate.py\n"
      ],
      "metadata": {
        "id": "DK6A_LZaC5mG",
        "outputId": "6e939962-9c53-41d0-f9e0-46df58d2f32b",
        "colab": {
          "base_uri": "https://localhost:8080/"
        }
      },
      "execution_count": 16,
      "outputs": [
        {
          "output_type": "stream",
          "name": "stdout",
          "text": [
            "python3: can't open file '/content/legaldocs_ST/src/pipeline/summarize_simplify_translate.py': [Errno 2] No such file or directory\n"
          ]
        }
      ]
    },
    {
      "cell_type": "code",
      "source": [],
      "metadata": {
        "id": "BcvUMLL6DPDN"
      },
      "execution_count": null,
      "outputs": []
    }
  ],
  "metadata": {
    "kernelspec": {
      "display_name": "Python 3",
      "name": "python3"
    },
    "language_info": {
      "name": "python"
    },
    "colab": {
      "provenance": [],
      "gpuType": "T4"
    },
    "accelerator": "GPU"
  },
  "nbformat": 4,
  "nbformat_minor": 0
}